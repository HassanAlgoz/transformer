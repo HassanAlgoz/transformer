{
 "cells": [
  {
   "cell_type": "code",
   "execution_count": 1,
   "id": "e9c13ecf-9098-4898-a0ef-63436ee50bf7",
   "metadata": {},
   "outputs": [
    {
     "name": "stderr",
     "output_type": "stream",
     "text": [
      "Found cached dataset tweet_eval (/home/hgoz/.cache/huggingface/datasets/tweet_eval/sentiment/1.1.0/12aee5282b8784f3e95459466db4cdf45c6bf49719c25cdb0743d71ed0410343)\n",
      "Found cached dataset tweet_eval (/home/hgoz/.cache/huggingface/datasets/tweet_eval/sentiment/1.1.0/12aee5282b8784f3e95459466db4cdf45c6bf49719c25cdb0743d71ed0410343)\n"
     ]
    }
   ],
   "source": [
    "import torch\n",
    "from datasets import load_dataset\n",
    "\n",
    "dataset_train = load_dataset(\"tweet_eval\", \"sentiment\", split=\"train[:50]\")\n",
    "dataset_test = load_dataset(\"tweet_eval\", \"sentiment\", split=\"test[:5]\")\n",
    "dataset_train.set_format(type=\"torch\", columns=[\"text\", \"label\"])\n",
    "dataset_test.set_format(type=\"torch\", columns=[\"text\", \"label\"])"
   ]
  },
  {
   "cell_type": "code",
   "execution_count": 2,
   "id": "3d8d01c2-d72f-43dd-a22a-bf08c23405e6",
   "metadata": {},
   "outputs": [
    {
     "data": {
      "text/plain": [
       "Dataset({\n",
       "    features: ['text', 'label'],\n",
       "    num_rows: 50\n",
       "})"
      ]
     },
     "execution_count": 2,
     "metadata": {},
     "output_type": "execute_result"
    }
   ],
   "source": [
    "dataset_train"
   ]
  },
  {
   "cell_type": "code",
   "execution_count": 3,
   "id": "4ec6c560-a273-4145-b408-577d73c37b6c",
   "metadata": {},
   "outputs": [],
   "source": [
    "from gensim.models import KeyedVectors\n",
    "embeddings_kv = KeyedVectors.load_word2vec_format('./data/glove.6B.300d.w2v.txt', binary=False)"
   ]
  },
  {
   "cell_type": "code",
   "execution_count": 4,
   "id": "79c86674-5494-4e8a-9b18-8e824cea4bc8",
   "metadata": {},
   "outputs": [],
   "source": [
    "embeddings = torch.tensor(embeddings_kv.vectors)"
   ]
  },
  {
   "cell_type": "code",
   "execution_count": 5,
   "id": "f68c72e0-d0f0-46ea-950a-f0af5599bf0e",
   "metadata": {},
   "outputs": [],
   "source": [
    "label_to_idx = {\n",
    "    'none': 0,\n",
    "    'against': 1,\n",
    "    'favor': 2,\n",
    "}\n",
    "idx_to_label = {\n",
    "    0: 'none',\n",
    "    1: 'against',\n",
    "    2: 'favor',\n",
    "}"
   ]
  },
  {
   "cell_type": "code",
   "execution_count": 6,
   "id": "2639d998",
   "metadata": {},
   "outputs": [
    {
     "data": {
      "text/plain": [
       "torch.Size([3, 10, 10])"
      ]
     },
     "execution_count": 6,
     "metadata": {},
     "output_type": "execute_result"
    }
   ],
   "source": [
    "x = torch.randn(3, 10, 28)\n",
    "y = torch.randn(3, 28, 10)\n",
    "z = torch.bmm(x, y)\n",
    "z.shape\n"
   ]
  },
  {
   "cell_type": "code",
   "execution_count": 7,
   "id": "d616e808",
   "metadata": {},
   "outputs": [
    {
     "data": {
      "text/plain": [
       "torch.Size([3, 28, 10])"
      ]
     },
     "execution_count": 7,
     "metadata": {},
     "output_type": "execute_result"
    }
   ],
   "source": [
    "x.permute(0, 2, 1).shape"
   ]
  },
  {
   "cell_type": "code",
   "execution_count": 18,
   "id": "c33efae8-aba1-40c9-8db3-bcfb98961cf4",
   "metadata": {},
   "outputs": [],
   "source": [
    "import math\n",
    "\n",
    "import torch\n",
    "import torch.nn as nn\n",
    "import torch.nn.functional as F\n",
    "\n",
    "\n",
    "class AttentionHead(nn.Module):\n",
    "    \"\"\"Scaled Dot-Product Attention\"\"\"\n",
    "    \n",
    "    def __init__(self, d_model, dk):\n",
    "        super(AttentionHead, self).__init__()\n",
    "        \n",
    "        # Attention layer\n",
    "        # @Note: maybe I should use the same as in the paper; where these are \n",
    "        self.w_q = nn.Linear(d_model, dk)\n",
    "        self.w_k = nn.Linear(d_model, dk)\n",
    "        self.w_v = nn.Linear(d_model, dk)\n",
    "        self.softmax = nn.Softmax(dim=-1)\n",
    "        \n",
    "        # Feed Forward layer\n",
    "        self.fc = nn.Linear(dk, d_model)\n",
    "        \n",
    "    def forward(self, X):\n",
    "        batch_size, seq_len, d_model = X.shape\n",
    "        \n",
    "        # Apply linear transformations\n",
    "        q = self.w_q(X).view(batch_size, seq_len, -1)\n",
    "        k = self.w_k(X).view(batch_size, -1, seq_len)\n",
    "        v = self.w_v(X)\n",
    "        \n",
    "        # Calculate context\n",
    "        attention_scores = torch.bmm(q, k) / math.sqrt(d_model)\n",
    "        attention_weights = self.softmax(attention_scores) \n",
    "        context = torch.bmm(attention_weights, v)\n",
    "\n",
    "        output = self.softmax(self.fc(context))\n",
    "\n",
    "        return output\n",
    "\n",
    "\n",
    "class LayerNorm(nn.Module):\n",
    "    \n",
    "    def __init__(self, normalized_shape):\n",
    "        super().__init__()\n",
    "        \n",
    "        self.gamma = nn.Parameter(torch.ones(normalized_shape))\n",
    "        self.beta = nn.Parameter(torch.zeros(normalized_shape))\n",
    "        \n",
    "    def forward(self, x):    \n",
    "        mean = x.mean(-1, keepdim=True)\n",
    "        std = x.std(-1, keepdim=True)\n",
    "        return self.gamma * (x - mean) / (std + 1e-5)  + self.beta\n",
    "\n",
    "\n",
    "class MyEncoder(nn.Module):\n",
    "    def __init__(self, sequence_length, n_heads, num_classes):\n",
    "        super(MyEncoder, self).__init__()\n",
    "\n",
    "        d_model = embeddings.shape[1]\n",
    "        self.embedding = nn.Embedding.from_pretrained(embeddings, freeze=True)\n",
    "\n",
    "        # Positional Encodings\n",
    "        pos_enc = torch.zeros(1, sequence_length, d_model)\n",
    "        for pos in range(sequence_length):\n",
    "            for i in range(0, d_model, 2):\n",
    "                pos_enc[0, pos, i] = math.sin(pos / (10000 ** ((i)/d_model)))\n",
    "                pos_enc[0, pos, i + 1] = math.cos(pos / (10000 ** ((i + 1)/d_model)))\n",
    "        self.positional = pos_enc.to(device)\n",
    "        \n",
    "        # Multi-headed Attention\n",
    "        dh = d_model // n_heads\n",
    "        self.heads = nn.ModuleList([AttentionHead(d_model, dh) for _ in range(n_heads)])\n",
    "        self.linear = nn.Linear(n_heads*d_model, d_model)\n",
    "        self.ln1 = LayerNorm(d_model)\n",
    "        self.drop1 = nn.Dropout(0.3)\n",
    "\n",
    "        # Feed Forward\n",
    "        self.ff1 = nn.Linear(d_model, d_model*4)\n",
    "        self.ff2 = nn.Linear(d_model*4, d_model)\n",
    "        self.ln2 = LayerNorm(d_model)\n",
    "        self.drop2 = nn.Dropout(0.3)\n",
    "\n",
    "        self.fc = nn.Linear(d_model, num_classes)\n",
    "\n",
    "    def forward(self, x):\n",
    "        # batch_size, seq_len, d_model = x.shape\n",
    "        x = self.embedding(x)\n",
    "\n",
    "        x += self.positional[:, :]\n",
    "\n",
    "        # Multi-head Attention -> Add & Norm\n",
    "        multi_head = self.linear(torch.cat([h(x) for h in self.heads], dim=-1))\n",
    "        x = self.drop1(self.ln1(x + multi_head))\n",
    "\n",
    "        # Feed Forward -> Add & Norm\n",
    "        ffn = self.ff2(F.relu(self.ff1(x)))\n",
    "        x = self.drop2(self.ln2(x + ffn))\n",
    "\n",
    "        # Classification\n",
    "        y_pred = F.log_softmax(self.fc(x), dim=1)\n",
    "        return y_pred[:, -1, :]\n"
   ]
  },
  {
   "cell_type": "code",
   "execution_count": 9,
   "id": "b8506bc8",
   "metadata": {},
   "outputs": [],
   "source": [
    "# from torch.nn import TransformerEncoder, TransformerEncoderLayer\n",
    "\n",
    "# class PositionalEncoding(nn.Module):\n",
    "    \n",
    "#     def __init__(self, d_model, dropout=0.1, max_len=5000):\n",
    "#         super().__init__()\n",
    "#         self.dropout = nn.Dropout(p=dropout)\n",
    "        \n",
    "#         # Compute the positional encodings once in advance\n",
    "#         pe = torch.zeros(max_len, d_model)\n",
    "#         position = torch.arange(0, max_len).unsqueeze(1)\n",
    "#         div_term = torch.exp(torch.arange(0, d_model, 2) *\n",
    "#                              -(math.log(10000.0) / d_model))\n",
    "#         pe[:, 0::2] = torch.sin(position * div_term)\n",
    "#         pe[:, 1::2] = torch.cos(position * div_term)\n",
    "#         pe = pe.unsqueeze(0)\n",
    "#         self.register_buffer('pe', pe)\n",
    "        \n",
    "#     def forward(self, x):\n",
    "#         x = x + self.pe[:, :x.size(1)]        \n",
    "#         return self.dropout(x)\n",
    "\n",
    "# class TransformerModel(nn.Module):\n",
    "#     def __init__(self, ntoken, d_model, nhead, d_hid, nlayers, dropout=0.5):\n",
    "#         super().__init__()\n",
    "#         self.d_model = d_model\n",
    "#         encoder_layers = TransformerEncoderLayer(d_model, nhead, d_hid, dropout)\n",
    "#         self.transformer_encoder = TransformerEncoder(encoder_layers, nlayers)\n",
    "#         self.embedding = nn.Embedding(ntoken, d_model)\n",
    "#         self.pos_encoder = PositionalEncoding(d_model, dropout)\n",
    "#         self.out = nn.Linear(d_model, ntoken)\n",
    "    \n",
    "#     def forward(self, src):\n",
    "#         src = self.embedding(src) * math.sqrt(self.d_model)\n",
    "#         src = self.pos_encoder(src)\n",
    "#         output = self.transformer_encoder(src)\n",
    "#         output = self.out(output)\n",
    "#         return output\n",
    "\n",
    "# # m = TransformerModel(embeddings.shape[0], embeddings.shape[1])"
   ]
  },
  {
   "cell_type": "code",
   "execution_count": 10,
   "id": "2531a7bc-7422-44fc-b72c-3a854486fc1d",
   "metadata": {},
   "outputs": [
    {
     "name": "stdout",
     "output_type": "stream",
     "text": [
      "max_length: 28\n",
      "num_texts: 50\n",
      "total_length: 957\n",
      "avg text length: 19\n"
     ]
    }
   ],
   "source": [
    "max_length = 0\n",
    "length_counts = 0\n",
    "num_texts = len(dataset_train['text'])\n",
    "for text in dataset_train['text']:\n",
    "    words = text.split(' ')\n",
    "    length_counts += len(words)\n",
    "    if len(words) > max_length:\n",
    "        max_length = len(words)\n",
    "\n",
    "print('max_length:', max_length)\n",
    "print('num_texts:', num_texts)\n",
    "print('total_length:', length_counts)\n",
    "avg_text_length = length_counts // num_texts\n",
    "print('avg text length:', avg_text_length)"
   ]
  },
  {
   "cell_type": "code",
   "execution_count": 11,
   "id": "d57b5fc5-abef-4b7b-b3dd-8694a05acd36",
   "metadata": {},
   "outputs": [
    {
     "data": {
      "text/plain": [
       "torch.Size([3, 28])"
      ]
     },
     "execution_count": 11,
     "metadata": {},
     "output_type": "execute_result"
    }
   ],
   "source": [
    "train_inputs = []\n",
    "for text in dataset_train['text']:\n",
    "    l = []\n",
    "    for w in text.split(' '):\n",
    "        if w in embeddings_kv:\n",
    "            l.append(embeddings_kv.key_to_index[w])\n",
    "    # PAD using dots\n",
    "    for i in range(max_length - len(l)):\n",
    "        l.append(embeddings_kv.key_to_index['.'])\n",
    "    train_inputs.append(l)\n",
    "torch.tensor(train_inputs[:3]).shape"
   ]
  },
  {
   "cell_type": "code",
   "execution_count": 12,
   "id": "14278be0-537a-4b4b-926c-81620c54534f",
   "metadata": {},
   "outputs": [
    {
     "data": {
      "text/plain": [
       "torch.Size([3, 28])"
      ]
     },
     "execution_count": 12,
     "metadata": {},
     "output_type": "execute_result"
    }
   ],
   "source": [
    "test_inputs = []\n",
    "for text in dataset_test['text']:\n",
    "    l = []\n",
    "    for w in text.split(' '):\n",
    "        if w in embeddings_kv:\n",
    "            l.append(embeddings_kv.key_to_index[w])\n",
    "    # PAD using dots\n",
    "    for i in range(max_length - len(l)):\n",
    "        l.append(embeddings_kv.key_to_index['.'])\n",
    "    test_inputs.append(l)\n",
    "torch.tensor(test_inputs[:3]).shape"
   ]
  },
  {
   "cell_type": "code",
   "execution_count": 13,
   "id": "f15ebe66-2b1e-4941-b451-2247e3eeb0a8",
   "metadata": {},
   "outputs": [
    {
     "data": {
      "text/plain": [
       "tensor([2, 1, 1, 1, 2, 2, 2, 0, 2, 1, 1, 1, 2, 0, 1, 1, 2, 2, 0, 1, 1, 2, 1, 1,\n",
       "        1, 1, 1, 2, 2, 1, 1, 2, 1, 2, 2, 1, 1, 2, 1, 1, 2, 2, 0, 2, 1, 1, 2, 2,\n",
       "        1, 1])"
      ]
     },
     "execution_count": 13,
     "metadata": {},
     "output_type": "execute_result"
    }
   ],
   "source": [
    "dataset_train['label']"
   ]
  },
  {
   "cell_type": "code",
   "execution_count": null,
   "id": "b7c513d6",
   "metadata": {},
   "outputs": [],
   "source": [
    "import torch_directml\n",
    "\n",
    "# device = torch.device('cpu')\n",
    "device = torch_directml.device()\n",
    "train_X = torch.tensor(train_inputs).to(device)\n",
    "train_y = dataset_train['label'].to(device)"
   ]
  },
  {
   "cell_type": "code",
   "execution_count": 19,
   "id": "d174ab89-2b33-4397-86c5-6719aed467fc",
   "metadata": {},
   "outputs": [],
   "source": [
    "model = MyEncoder(max_length, 4, 3).to(device)\n",
    "# model.load_state_dict(torch.load('model.pt'))\n",
    "loss_fn = torch.nn.CrossEntropyLoss()\n",
    "optimizer = torch.optim.Adam(model.parameters(), lr=0.001)"
   ]
  },
  {
   "cell_type": "code",
   "execution_count": 15,
   "id": "acac24b5-360d-4b26-9699-3cfa504dea30",
   "metadata": {},
   "outputs": [],
   "source": [
    "train_losses = []\n",
    "epochs = []"
   ]
  },
  {
   "cell_type": "code",
   "execution_count": 16,
   "id": "15999a19",
   "metadata": {},
   "outputs": [
    {
     "data": {
      "text/plain": [
       "torch.Size([50, 28])"
      ]
     },
     "execution_count": 16,
     "metadata": {},
     "output_type": "execute_result"
    }
   ],
   "source": [
    "train_X.shape"
   ]
  },
  {
   "cell_type": "code",
   "execution_count": 21,
   "id": "fc4b5377-223f-4320-86c1-7be50557c7be",
   "metadata": {},
   "outputs": [
    {
     "data": {
      "image/png": "[encoded data removed]",
      "text/plain": [
       "<Figure size 640x480 with 1 Axes>"
      ]
     },
     "metadata": {},
     "output_type": "display_data"
    },
    {
     "name": "stdout",
     "output_type": "stream",
     "text": [
      "0.9466508030891418\n"
     ]
    }
   ],
   "source": [
    "num_epochs = 20\n",
    "\n",
    "model.train()\n",
    "for epoch in range(num_epochs):\n",
    "\n",
    "    # Forward pass: compute predicted y by passing x to the model.\n",
    "    output = model(train_X)\n",
    "\n",
    "    # Calculate the loss\n",
    "    loss = loss_fn(output, train_y)\n",
    "\n",
    "    # Before the backward pass, use the optimizer object to zero all of the\n",
    "    # gradients for the Tensors it will update (which are the learnable weights\n",
    "    # of the model)\n",
    "    optimizer.zero_grad()\n",
    "\n",
    "    # Backward pass: compute gradient of the loss with respect to model parameters\n",
    "    loss.backward()\n",
    "\n",
    "    # Calling the step function on an Optimizer makes an update to its parameters\n",
    "    optimizer.step()\n",
    "    \n",
    "    # Record loss and epoch values\n",
    "    if (epoch + 1) % 5 == 0:\n",
    "        train_losses.append(loss.item())\n",
    "        epochs.append(epoch)\n",
    "        torch.save(model.state_dict(), 'model.pt')\n",
    "\n",
    "import matplotlib.pyplot as plt\n",
    "plt.plot(torch.arange(0, len(epochs), 1), train_losses, 1)\n",
    "plt.title('Training Loss over Time')\n",
    "plt.xlabel('Epoch')\n",
    "plt.ylabel('Loss')\n",
    "plt.show()\n",
    "print(train_losses[-1])"
   ]
  },
  {
   "cell_type": "code",
   "execution_count": 22,
   "id": "66a9921a-8fd4-4abb-bccc-90b13a034d29",
   "metadata": {},
   "outputs": [
    {
     "name": "stdout",
     "output_type": "stream",
     "text": [
      "The accuracy of the testing set: 60.00%\n"
     ]
    }
   ],
   "source": [
    "test_X = torch.tensor(test_inputs).to(device)\n",
    "test_y = dataset_test['label'].to(device)\n",
    "\n",
    "model.eval()\n",
    "with torch.no_grad():\n",
    "    pred = model(test_X)\n",
    "    pred = torch.argmax(pred, dim=1)\n",
    "\n",
    "num_correct = (pred == test_y).sum()\n",
    "accuracy = num_correct / len(test_y)\n",
    "\n",
    "# Print the accuracy\n",
    "print(\"The accuracy of the testing set: {:.2f}%\".format(accuracy * 100))"
   ]
  },
  {
   "cell_type": "code",
   "execution_count": 23,
   "id": "2607ad38-2f9a-49b9-84aa-bbcaaf15fa85",
   "metadata": {},
   "outputs": [
    {
     "name": "stdout",
     "output_type": "stream",
     "text": [
      "AGAINST       what do these naked have to do with not even like\n",
      "AGAINST       had a blue penis while was with\n",
      "AGAINST       but think the victims are going to be\n",
      "FAVOR       think may be finally in with the in crowd\n",
      "NONE       and now and are running out of\n"
     ]
    }
   ],
   "source": [
    "for x, y in zip(test_inputs, dataset_test['label']):\n",
    "    text = ' '.join([embeddings_kv.index_to_key[i] for i in x if i != 2])\n",
    "    print(idx_to_label[y.item()].upper(), ' ' * 5, text)"
   ]
  }
 ],
 "metadata": {
  "kernelspec": {
   "display_name": "Python 3 (ipykernel)",
   "language": "python",
   "name": "python3"
  },
  "language_info": {
   "codemirror_mode": {
    "name": "ipython",
    "version": 3
   },
   "file_extension": ".py",
   "mimetype": "text/x-python",
   "name": "python",
   "nbconvert_exporter": "python",
   "pygments_lexer": "ipython3",
   "version": "3.10.9"
  }
 },
 "nbformat": 4,
 "nbformat_minor": 5
}
