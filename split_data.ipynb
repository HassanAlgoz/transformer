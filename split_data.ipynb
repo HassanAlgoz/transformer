{
 "cells": [
  {
   "cell_type": "code",
   "execution_count": null,
   "metadata": {},
   "outputs": [],
   "source": [
    "import csv\n",
    "import random\n",
    "\n",
    "# Split ratios\n",
    "test_size = 0.2\n",
    "val_size = 0.2\n",
    "\n",
    "# Read original CSV \n",
    "with open(\"data/small/spam.csv\") as f:\n",
    "    reader = csv.reader(f)\n",
    "    next(reader) # skips first row\n",
    "    rows = list(reader)\n",
    "\n",
    "# Shuffle the data    \n",
    "random.shuffle(rows)\n",
    "\n",
    "# Get total number of samples\n",
    "n = len(rows)\n",
    "\n",
    "# Calculate sample sizes for each split        \n",
    "test_n = int(n * test_size)\n",
    "val_n = int(n * val_size)\n",
    "train_n = n - test_n - val_n\n",
    "\n",
    "# Write to CSV files\n",
    "with open(\"data/small/test/spam.csv\", \"w\") as f:\n",
    "    writer = csv.writer(f)\n",
    "    writer.writerows(rows[:test_n])\n",
    "\n",
    "with open(\"data/small/val/spam.csv\", \"w\") as f:      \n",
    "    writer = csv.writer(f)       \n",
    "    writer.writerows(rows[test_n:test_n + val_n])\n",
    "\n",
    "with open(\"data/small/train/spam.csv\", \"w\") as f:    \n",
    "    writer = csv.writer(f)\n",
    "    writer.writerows(rows[test_n + val_n:])"
   ]
  }
 ],
 "metadata": {
  "language_info": {
   "name": "python"
  },
  "orig_nbformat": 4
 },
 "nbformat": 4,
 "nbformat_minor": 2
}
